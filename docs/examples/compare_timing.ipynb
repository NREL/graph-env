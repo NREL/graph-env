{
 "cells": [
  {
   "cell_type": "code",
   "execution_count": 1,
   "id": "b628db7e-bb20-4194-a0ef-cb423c124c9f",
   "metadata": {},
   "outputs": [],
   "source": [
    "import pandas as pd"
   ]
  },
  {
   "cell_type": "code",
   "execution_count": 2,
   "id": "47944a6b-7d15-4b03-8c2e-4a85d2004f1b",
   "metadata": {},
   "outputs": [],
   "source": [
    "custom_env = pd.read_csv('custom_env_results.csv')\n",
    "graph_env = pd.read_csv('hallway_results.csv')\n",
    "graph_env.index = ('graph_env', )\n",
    "custom_env.index = ('custom_env', )\n"
   ]
  },
  {
   "cell_type": "code",
   "execution_count": 3,
   "id": "c0e396e6-f8ff-4080-ae0e-fcaf4d9597d5",
   "metadata": {},
   "outputs": [],
   "source": [
    "custom_env.append(graph_env).T.to_csv('combined.csv')"
   ]
  },
  {
   "cell_type": "code",
   "execution_count": 4,
   "id": "657101eb-78bb-46dc-a844-bc8e16d84f19",
   "metadata": {},
   "outputs": [],
   "source": [
    "df = custom_env.append(graph_env).T"
   ]
  },
  {
   "cell_type": "code",
   "execution_count": 5,
   "id": "7c2b78af-fd44-47dc-a6d8-473f93e3c69d",
   "metadata": {},
   "outputs": [],
   "source": [
    "sampler_perf = df[df.index.str.startswith('sampler_perf') | df.index.str.startswith('timers')]"
   ]
  },
  {
   "cell_type": "code",
   "execution_count": 6,
   "id": "e5348ff2-dbba-40ad-ba25-24046e7fa34f",
   "metadata": {},
   "outputs": [
    {
     "data": {
      "text/plain": [
       "sampler_perf.mean_raw_obs_processing_ms    1.382546\n",
       "sampler_perf.mean_inference_ms              8.54902\n",
       "sampler_perf.mean_action_processing_ms     0.873835\n",
       "sampler_perf.mean_env_wait_ms              2.553954\n",
       "sampler_perf.mean_env_render_ms                 0.0\n",
       "timers.sample_time_ms                      7.171545\n",
       "timers.sample_throughput                    0.13944\n",
       "timers.learn_time_ms                       7.965208\n",
       "timers.learn_throughput                    0.125546\n",
       "timers.update_time_ms                      0.981366\n",
       "dtype: object"
      ]
     },
     "execution_count": 6,
     "metadata": {},
     "output_type": "execute_result"
    }
   ],
   "source": [
    "(sampler_perf.graph_env / (sampler_perf.custom_env + 1E-12)).dropna()"
   ]
  }
 ],
 "metadata": {
  "kernelspec": {
   "display_name": "Python 3.8.10 64-bit ('rlmol': conda)",
   "language": "python",
   "name": "python3810jvsc74a57bd0114d3f206ebe7f7a204130250ab8ab1dce9760d08c8e557a7a3306f441e54354"
  },
  "language_info": {
   "codemirror_mode": {
    "name": "ipython",
    "version": 3
   },
   "file_extension": ".py",
   "mimetype": "text/x-python",
   "name": "python",
   "nbconvert_exporter": "python",
   "pygments_lexer": "ipython3",
   "version": "3.8.12"
  }
 },
 "nbformat": 4,
 "nbformat_minor": 5
}

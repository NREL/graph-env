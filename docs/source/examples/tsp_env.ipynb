{
 "cells": [
  {
   "cell_type": "markdown",
   "id": "718fa852-f2bb-4fc5-a91b-f38ac30b5649",
   "metadata": {
    "tags": []
   },
   "source": [
    "# TSP Environment Rendering\n",
    "\n",
    "Here we demonstrate some additional usage of graphenv in visualizing environment solutions"
   ]
  },
  {
   "cell_type": "code",
   "execution_count": 1,
   "id": "81d03ef5",
   "metadata": {},
   "outputs": [],
   "source": [
    "import subprocess\n",
    "from copy import copy\n",
    "from itertools import chain\n",
    "from pathlib import Path\n",
    "from tempfile import TemporaryDirectory\n",
    "\n",
    "import numpy as np\n",
    "from graphenv.examples.tsp.graph_utils import make_complete_planar_graph\n",
    "from graphenv.examples.tsp.tsp_state import TSPState\n",
    "from graphenv.graph_env import GraphEnv\n",
    "\n",
    "%matplotlib inline"
   ]
  },
  {
   "cell_type": "code",
   "execution_count": 2,
   "id": "2ae74570-ee0d-4dd7-8a42-8bf521d867a7",
   "metadata": {},
   "outputs": [],
   "source": [
    "N = 50\n",
    "\n",
    "# Create the TSPState and GraphEnv objects\n",
    "state = TSPState(lambda: make_complete_planar_graph(N, seed=1))\n",
    "env = GraphEnv(\n",
    "    {\n",
    "        \"state\": state,\n",
    "        \"max_num_children\": N,\n",
    "    }\n",
    ")"
   ]
  },
  {
   "cell_type": "code",
   "execution_count": 3,
   "id": "f7793320-8884-466d-9ef3-350943f9cb78",
   "metadata": {},
   "outputs": [],
   "source": [
    "%%capture\n",
    "\n",
    "# Reset the environment and initialize the observation, reward, and done fields\n",
    "obs, info = env.reset()\n",
    "greedy_reward = 0\n",
    "done = False\n",
    "\n",
    "with TemporaryDirectory(dir=\".\") as tmpdir:\n",
    "    while not done:\n",
    "\n",
    "        # Select the action with the minimum distance from the parent node\n",
    "        action = np.argmin([x[\"parent_dist\"] for x in obs[1:]])\n",
    "\n",
    "        # Get the observation for the next set of candidate nodes,\n",
    "        # incremental reward, and done flags\n",
    "        obs, reward, terminated, truncated, info = env.step(action)\n",
    "        done = terminated or truncated\n",
    "\n",
    "        # Append the step's reward to the running total\n",
    "        greedy_reward += reward\n",
    "\n",
    "        # Render the intermediate environment and save as an image\n",
    "        fig, ax = env.render()\n",
    "        ax.set_title(f\"distance = {greedy_reward:.3f}\")\n",
    "        fig.savefig(Path(tmpdir, f\"img{len(env.state.tour):01d}.jpg\"), dpi=100)\n",
    "\n",
    "    # Convert the list of frames to a video\n",
    "    subprocess.run(\n",
    "        \"ffmpeg -i img%01d.jpg -vcodec libx264 -acodec libfaac -y ../movie.mp4\",\n",
    "        shell=True,\n",
    "        check=True,\n",
    "        cwd=tmpdir,\n",
    "        capture_output=True,\n",
    "    )\n",
    "\n",
    "    subprocess.run(\n",
    "        \"ffmpeg -i img%01d.jpg -vcodec libvpx -acodec libvorbis -y ../movie.webm\",\n",
    "        shell=True,\n",
    "        check=True,\n",
    "        cwd=tmpdir,\n",
    "        stdout=None,\n",
    "        capture_output=True,\n",
    "    )"
   ]
  },
  {
   "cell_type": "markdown",
   "id": "66e70a4d-1710-44c4-8f8e-e0407a2b2014",
   "metadata": {},
   "source": [
    "<video controls>\n",
    "  <source src=\"movie.webm\" type=\"video/webm\">\n",
    "  <source src=\"movie.mp4\" type=\"video/mp4\">    \n",
    "Your browser does not support the video tag.\n",
    "</video> \n",
    "\n",
    "*File Links:*\n",
    "[movie.webm](movie.webm), [movie.mp4](movie.mp4)"
   ]
  },
  {
   "cell_type": "code",
   "execution_count": 4,
   "id": "8e9e8df3-bcfb-4883-a59d-df62d6553511",
   "metadata": {},
   "outputs": [
    {
     "name": "stdout",
     "output_type": "stream",
     "text": [
      "Total greedy reward: -7.2034767022636865\n"
     ]
    }
   ],
   "source": [
    "print(f\"Total greedy reward: {greedy_reward}\")"
   ]
  },
  {
   "cell_type": "markdown",
   "id": "36ed38d8-b101-4727-a010-56db8429de25",
   "metadata": {},
   "source": [
    "# Beam Search\n",
    "\n",
    "GraphEnvs can be copied using python's shallow `copy()` function, which allows parallelizing search strategies. Here we demonstrate this functionality in a simple beam search, where the top K shortest solutions are expanded on each iteration."
   ]
  },
  {
   "cell_type": "code",
   "execution_count": 5,
   "id": "98a81141-0e61-46f8-a50f-323d45307b31",
   "metadata": {},
   "outputs": [],
   "source": [
    "def expand(env, previous_reward):\n",
    "    \"\"\"Given an environment (and it's cumulative reward), return possible next actions\n",
    "    and their associated rewards.\n",
    "\n",
    "    Note, here we avoid calling env.step(), as openai's API would require enumerating\n",
    "    the full search tree for the child nodes.\n",
    "    \"\"\"\n",
    "    return (\n",
    "        {\n",
    "            \"action_index\": i,\n",
    "            \"reward\": previous_reward + child.reward,\n",
    "            \"env\": copy(env),  # Here, we copy the environment to maintain seperate tours\n",
    "        }\n",
    "        for i, child in enumerate(env.state.children)\n",
    "    )\n",
    "\n",
    "\n",
    "def beam_search(env_list, k):\n",
    "    \"\"\"Expand the given (env, reward) pairs, and subsample only the top K from the next\n",
    "    iteration of results.\n",
    "    \"\"\"\n",
    "\n",
    "    top_actions = sorted(\n",
    "        chain(*(expand(env, previous_reward) for env, previous_reward in env_list)),\n",
    "        key=lambda x: x[\"reward\"],\n",
    "        reverse=True,\n",
    "    )[:k]\n",
    "\n",
    "    for entry in top_actions:\n",
    "        obs, reward, terminated, truncated, info = entry[\"env\"].step(entry[\"action_index\"])\n",
    "\n",
    "    return [(entry[\"env\"], entry[\"reward\"]) for entry in top_actions], done"
   ]
  },
  {
   "cell_type": "code",
   "execution_count": 6,
   "id": "42a7e6dd-711a-4cb0-a79a-1bdd8afac7b7",
   "metadata": {},
   "outputs": [],
   "source": [
    "obs, info = env.reset()\n",
    "env_list = [(env, 0)]\n",
    "done = False\n",
    "\n",
    "# A beam search with K=1 should be equivalent to greedy search\n",
    "while not done:\n",
    "    env_list, done = beam_search(env_list, 1)\n",
    "\n",
    "assert np.isclose(env_list[0][1], greedy_reward)"
   ]
  },
  {
   "cell_type": "code",
   "execution_count": 7,
   "id": "b93a4d3b-ac55-4817-8229-ba81cbd6a7e9",
   "metadata": {},
   "outputs": [],
   "source": [
    "obs, info = env.reset()\n",
    "env_list = [(env, 0)]\n",
    "done = False\n",
    "\n",
    "# Here, we show a beam search with K=50 that beats the greedy baseline\n",
    "while not done:\n",
    "    env_list, done = beam_search(env_list, 50)"
   ]
  },
  {
   "cell_type": "code",
   "execution_count": 8,
   "id": "725ed9cb-6fbb-47e8-a000-52dd007dbc81",
   "metadata": {},
   "outputs": [
    {
     "data": {
      "text/plain": [
       "[(<graphenv.graph_env.GraphEnv at 0x15a0ab8b0>, -6.946512200757427),\n",
       " (<graphenv.graph_env.GraphEnv at 0x15aba0280>, -7.01145372119443),\n",
       " (<graphenv.graph_env.GraphEnv at 0x15aba0340>, -7.0149204046663485),\n",
       " (<graphenv.graph_env.GraphEnv at 0x15aba5d30>, -7.050288524545745),\n",
       " (<graphenv.graph_env.GraphEnv at 0x15aba5bb0>, -7.0804851031169225)]"
      ]
     },
     "execution_count": 8,
     "metadata": {},
     "output_type": "execute_result"
    }
   ],
   "source": [
    "env_list[:5]"
   ]
  },
  {
   "cell_type": "code",
   "execution_count": 9,
   "id": "9de75d8a-d65c-47c0-9d66-f30b1add5e43",
   "metadata": {},
   "outputs": [
    {
     "data": {
      "image/png": "[encoded data removed]",
      "text/plain": [
       "<Figure size 432x288 with 1 Axes>"
      ]
     },
     "metadata": {},
     "output_type": "display_data"
    }
   ],
   "source": [
    "fig, ax = env_list[0][0].render()\n",
    "_ = ax.set_title(f\"reward = {env_list[0][1]:.3f}\")"
   ]
  }
 ],
 "metadata": {
  "kernelspec": {
   "display_name": "Python 3 (ipykernel)",
   "language": "python",
   "name": "python3"
  },
  "language_info": {
   "codemirror_mode": {
    "name": "ipython",
    "version": 3
   },
   "file_extension": ".py",
   "mimetype": "text/x-python",
   "name": "python",
   "nbconvert_exporter": "python",
   "pygments_lexer": "ipython3",
   "version": "3.9.10"
  }
 },
 "nbformat": 4,
 "nbformat_minor": 5
}

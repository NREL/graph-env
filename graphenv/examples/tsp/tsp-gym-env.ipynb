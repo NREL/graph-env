{
 "cells": [
  {
   "cell_type": "code",
   "execution_count": 25,
   "id": "81d03ef5",
   "metadata": {},
   "outputs": [],
   "source": [
    "import random\n",
    "\n",
    "import numpy as np\n",
    "import pandas as pd\n",
    "import matplotlib.pyplot as plt\n",
    "\n",
    "import gym\n",
    "from gym.utils import seeding\n",
    "import networkx as nx\n",
    "\n",
    "%matplotlib inline"
   ]
  },
  {
   "cell_type": "code",
   "execution_count": 26,
   "id": "4566d936",
   "metadata": {},
   "outputs": [],
   "source": [
    "class TSPGymEnv(gym.Env):\n",
    "\n",
    "    def __init__(\n",
    "        self, \n",
    "        G: nx.Graph,\n",
    "        seed: int = None,\n",
    "        **kwargs\n",
    "    ):\n",
    "        self.G = G\n",
    "        self.seed = seed  # if not None, always reset to same state\n",
    "\n",
    "        self.N = G.number_of_nodes()\n",
    "        \n",
    "        self.cur_node = None     # index of current node\n",
    "        self.path_index = None   # index of current node in path\n",
    "        \n",
    "        self._initialize_node_data()\n",
    "        self._initialize_edge_data()\n",
    "        max_node_obs = max([self._get_node_obs(n) for n in G.nodes])\n",
    "        \n",
    "        self.observation_space = gym.spaces.Dict({\n",
    "            \"cur_node\": gym.spaces.Discrete(self.N),\n",
    "            \"node_obs\": gym.spaces.Discrete(max_node_obs),\n",
    "            \"next_nodes\": gym.spaces.Box(0, self.N, shape=(self.N,), dtype=int)\n",
    "        })\n",
    "            \n",
    "        self.action_space = gym.spaces.Discrete(self.N)\n",
    "        \n",
    "        \n",
    "    def _initialize_node_data(self):\n",
    "        for node, data in G.nodes.data():\n",
    "            if \"weight\" not in data:\n",
    "                G.nodes[node][\"weight\"] = G.degree[node]\n",
    "            G.nodes[node][\"visited\"] = False\n",
    "            G.nodes[node][\"path_index\"] = None\n",
    "            \n",
    "            \n",
    "    def _initialize_edge_data(self):\n",
    "        for ei, ej, data in G.edges.data():\n",
    "            if \"weight\" not in data:\n",
    "                G[ei][ej][\"weight\"] = 1.\n",
    "            G[ei][ej][\"path_index\"] = None\n",
    "        \n",
    "    \n",
    "    def _visit_node(self, node: int, index: int):\n",
    "        self.G.nodes[node][\"visited\"] = True\n",
    "        self.G.nodes[node][\"path_index\"] = index\n",
    "        \n",
    "\n",
    "    def _visit_edge(self, ei: int, ej: int, index: int):\n",
    "        self.G[ei][ej][\"visited\"] = True\n",
    "        self.G[ei][ej][\"path_index\"] = index\n",
    "\n",
    "\n",
    "    def reset(self, seed: int = None):\n",
    "        \n",
    "        seeding.np.random.seed(seed if seed is not None else self.seed)\n",
    "        \n",
    "        self._initialize_node_data()\n",
    "        self._initialize_edge_data()\n",
    "        \n",
    "        self.cur_node = seeding.np.random.choice(list(self.G.nodes))\n",
    "        self.path_index = 0\n",
    "        \n",
    "        self._visit_node(self.cur_node, self.path_index)\n",
    "        \n",
    "        return self._get_obs()\n",
    "        \n",
    "    \n",
    "    def _get_node_obs(self, node: int):\n",
    "        return G.nodes[node][\"weight\"]\n",
    "    \n",
    "    \n",
    "    def _get_unvisited_neighbors(self, node: int):\n",
    "        nbrs = [n for n in G.neighbors(self.cur_node) if not G.nodes[n][\"visited\"]]\n",
    "        nodes = np.zeros(self.N, dtype=int)\n",
    "        nodes[nbrs] = 1\n",
    "        return nodes\n",
    "    \n",
    "    \n",
    "        \n",
    "    def _get_obs(self):\n",
    "        return {\n",
    "            \"cur_node\": self.cur_node,\n",
    "            \"node_obs\": self._get_node_obs(self.cur_node),\n",
    "            \"next_nodes\": self._get_unvisited_neighbors(self.cur_node)\n",
    "        }\n",
    "    \n",
    "        \n",
    "    def step(self, action: np.ndarray):\n",
    "        \n",
    "        next_node = action[0]\n",
    "        \n",
    "        next_nodes = self._get_unvisited_neighbors(self.cur_node)\n",
    "        assert next_nodes[next_node] == 1, \\\n",
    "            f\"Edge ({node}, {self.cur_node}) is invalid\"\n",
    "\n",
    "        reward = -G[self.cur_node][next_node][\"weight\"]\n",
    "        \n",
    "        self._visit_edge(self.cur_node, next_node, self.path_index)\n",
    "\n",
    "        self.cur_node = next_node\n",
    "        self.path_index += 1\n",
    "        self._visit_node(self.cur_node, self.path_index)\n",
    "        \n",
    "        obs = self._get_obs()\n",
    "        done = obs[\"next_nodes\"].max() == 0\n",
    "\n",
    "        return obs, reward, done, {}\n"
   ]
  },
  {
   "cell_type": "code",
   "execution_count": 3,
   "id": "cc0e8683",
   "metadata": {},
   "outputs": [],
   "source": [
    "from scipy.spatial import distance_matrix\n",
    "\n",
    "def make_complete_planar_graph(N, seed: int = None):\n",
    "    \"\"\"Returns a fully connected graph with xy positions for each\n",
    "    node and edge weights equal to pairwise distances.\"\"\"\n",
    "    \n",
    "    np.random.seed(seed)\n",
    "    \n",
    "    # Complete graph on points in xy-plane with pairwise distances as edge weights\n",
    "    G = nx.complete_graph(N)\n",
    "\n",
    "    pos = np.random.rand(N, 2)\n",
    "    d = distance_matrix(pos, pos)\n",
    "    \n",
    "    for ei, ej in G.edges:\n",
    "        G[ei][ej][\"weight\"] = d[ei][ej]\n",
    "    \n",
    "    for node in G.nodes:\n",
    "        G.nodes[node][\"pos\"] = pos[node, :]\n",
    "    \n",
    "    return G"
   ]
  },
  {
   "cell_type": "markdown",
   "id": "f6301544",
   "metadata": {},
   "source": [
    "# Create and visualize simple network"
   ]
  },
  {
   "cell_type": "code",
   "execution_count": 18,
   "id": "d608f3f2",
   "metadata": {},
   "outputs": [],
   "source": [
    "N = 5\n",
    "# G = nx.cycle_graph(N)\n",
    "G = make_complete_planar_graph(N, seed=2)"
   ]
  },
  {
   "cell_type": "code",
   "execution_count": 19,
   "id": "ed8f8b9d",
   "metadata": {},
   "outputs": [],
   "source": [
    "def plot_network(G, path=None):\n",
    "    \n",
    "    fig, ax = plt.subplots()\n",
    "    \n",
    "    # Use pos attribute if it exists\n",
    "    if \"pos\" not in G.nodes[0]:\n",
    "        pos = nx.spring_layout(G, seed=7)  # positions for all nodes - seed for reproducibility\n",
    "    else:\n",
    "        pos = [G.nodes[n][\"pos\"] for n in G.nodes]\n",
    "    \n",
    "    _ = nx.draw_networkx_nodes(G, pos, node_size=200)\n",
    "    _ = nx.draw_networkx_labels(G, pos, font_size=12, font_color=\"white\")\n",
    "    \n",
    "    if path is None:\n",
    "        _ = nx.draw_networkx_edges(G, pos, edgelist=list(G.edges), width=1)\n",
    "    else:\n",
    "        _ = nx.draw_networkx_edges(G, pos, edgelist=list(G.edges), width=.1)\n",
    "        edgelist = [(path[i+1], path[i]) for i in range(len(path)-1)]\n",
    "        _ = nx.draw_networkx_edges(G, pos, edgelist=edgelist, width=1)\n",
    "        \n",
    "    return fig, ax"
   ]
  },
  {
   "cell_type": "code",
   "execution_count": 20,
   "id": "5185679a",
   "metadata": {},
   "outputs": [
    {
     "data": {
      "image/png": "[encoded data removed]",
      "text/plain": [
       "<Figure size 432x288 with 1 Axes>"
      ]
     },
     "metadata": {},
     "output_type": "display_data"
    }
   ],
   "source": [
    "_ = plot_network(G, path=None)"
   ]
  },
  {
   "cell_type": "markdown",
   "id": "8aae344a",
   "metadata": {},
   "source": [
    "# Solve TSP using nx heuristics"
   ]
  },
  {
   "cell_type": "code",
   "execution_count": 21,
   "id": "f4642cca",
   "metadata": {},
   "outputs": [
    {
     "name": "stdout",
     "output_type": "stream",
     "text": [
      "TSP solution [1, 4, 0, 2, 3]\n"
     ]
    },
    {
     "data": {
      "image/png": "[encoded data removed]",
      "text/plain": [
       "<Figure size 432x288 with 1 Axes>"
      ]
     },
     "metadata": {},
     "output_type": "display_data"
    }
   ],
   "source": [
    "tsp = nx.approximation.traveling_salesman_problem\n",
    "path = tsp(G, cycle=False)\n",
    "print(\"TSP solution\", path)\n",
    "\n",
    "_ = plot_network(G, path=path)"
   ]
  },
  {
   "cell_type": "markdown",
   "id": "45572e28",
   "metadata": {},
   "source": [
    "# Demo of gym env with random actions"
   ]
  },
  {
   "cell_type": "code",
   "execution_count": 22,
   "id": "2f1abbcd",
   "metadata": {},
   "outputs": [
    {
     "data": {
      "text/plain": [
       "{'G': <networkx.classes.graph.Graph at 0x15cff4c40>,\n",
       " 'seed': None,\n",
       " 'N': 5,\n",
       " 'cur_node': None,\n",
       " 'path_index': None,\n",
       " 'observation_space': Dict(cur_node:Discrete(5), next_nodes:Box([0 0 0 0 0], [5 5 5 5 5], (5,), int64), node_obs:Discrete(4)),\n",
       " 'action_space': Discrete(5)}"
      ]
     },
     "execution_count": 22,
     "metadata": {},
     "output_type": "execute_result"
    }
   ],
   "source": [
    "env = TSPGymEnv(G=G)\n",
    "env.__dict__"
   ]
  },
  {
   "cell_type": "code",
   "execution_count": 23,
   "id": "7d8497d0",
   "metadata": {},
   "outputs": [
    {
     "name": "stdout",
     "output_type": "stream",
     "text": [
      "{'cur_node': 3, 'node_obs': 4, 'next_nodes': array([1, 1, 1, 0, 1])}\n",
      "{'cur_node': 0, 'node_obs': 4, 'next_nodes': array([0, 1, 1, 0, 1])} -0.6368509007229414 False\n",
      "{'cur_node': 1, 'node_obs': 4, 'next_nodes': array([0, 0, 1, 0, 1])} -0.42488296534900866 False\n",
      "{'cur_node': 4, 'node_obs': 4, 'next_nodes': array([0, 0, 1, 0, 0])} -0.30148715858147346 False\n",
      "{'cur_node': 2, 'node_obs': 4, 'next_nodes': array([0, 0, 0, 0, 0])} -0.13639966186766653 True\n"
     ]
    },
    {
     "data": {
      "text/plain": [
       "-1.4996206865210902"
      ]
     },
     "execution_count": 23,
     "metadata": {},
     "output_type": "execute_result"
    }
   ],
   "source": [
    "random.seed(42)\n",
    "obs = env.reset(seed=42)\n",
    "print(obs)\n",
    "\n",
    "done = False\n",
    "reward = 0.\n",
    "path = [obs[\"cur_node\"]]\n",
    "while not done:\n",
    "    nn = obs[\"next_nodes\"]\n",
    "    action = random.choice(np.where(nn)[0])\n",
    "    path.append(action)\n",
    "    obs, rew, done, _ = env.step([action])\n",
    "    print(obs, rew, done)\n",
    "    reward += rew\n",
    "reward"
   ]
  },
  {
   "cell_type": "code",
   "execution_count": 24,
   "id": "02053af9",
   "metadata": {},
   "outputs": [
    {
     "name": "stdout",
     "output_type": "stream",
     "text": [
      "Random path [3, 0, 1, 4, 2]\n"
     ]
    },
    {
     "data": {
      "image/png": "[encoded data removed]",
      "text/plain": [
       "<Figure size 432x288 with 1 Axes>"
      ]
     },
     "metadata": {},
     "output_type": "display_data"
    }
   ],
   "source": [
    "print(\"Random path\", path)\n",
    "_ = plot_network(G, path=path)"
   ]
  },
  {
   "cell_type": "code",
   "execution_count": null,
   "id": "f079e8e4",
   "metadata": {},
   "outputs": [],
   "source": []
  },
  {
   "cell_type": "code",
   "execution_count": null,
   "id": "d96bae09",
   "metadata": {},
   "outputs": [],
   "source": []
  }
 ],
 "metadata": {
  "kernelspec": {
   "display_name": "Python 3 (ipykernel)",
   "language": "python",
   "name": "python3"
  },
  "language_info": {
   "codemirror_mode": {
    "name": "ipython",
    "version": 3
   },
   "file_extension": ".py",
   "mimetype": "text/x-python",
   "name": "python",
   "nbconvert_exporter": "python",
   "pygments_lexer": "ipython3",
   "version": "3.9.10"
  }
 },
 "nbformat": 4,
 "nbformat_minor": 5
}

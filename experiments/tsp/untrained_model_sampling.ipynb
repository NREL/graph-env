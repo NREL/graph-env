{
 "cells": [
  {
   "cell_type": "code",
   "execution_count": 1,
   "id": "f177b69f",
   "metadata": {},
   "outputs": [
    {
     "name": "stdout",
     "output_type": "stream",
     "text": [
      "2.8.0\n",
      "[PhysicalDevice(name='/physical_device:GPU:0', device_type='GPU')]\n"
     ]
    }
   ],
   "source": [
    "import numpy as np\n",
    "import tensorflow as tf\n",
    "from tqdm.auto import tqdm\n",
    "print(tf.__version__)\n",
    "\n",
    "gpus = tf.config.list_physical_devices('GPU')\n",
    "print(gpus)\n",
    "\n",
    "for gpu in gpus:\n",
    "    tf.config.experimental.set_memory_growth(gpu, True)\n",
    "\n",
    "    \n",
    "from graphenv.examples.tsp.graph_utils import make_complete_planar_graph\n",
    "from graphenv.graph_env import GraphEnv\n",
    "from graphenv.examples.tsp.tsp_nfp_state import TSPNFPState\n",
    "from graphenv.examples.tsp.tsp_nfp_model import TSPGNNModel"
   ]
  },
  {
   "cell_type": "code",
   "execution_count": 2,
   "id": "d6fa0f8a",
   "metadata": {},
   "outputs": [],
   "source": [
    "N = 40\n",
    "G = make_complete_planar_graph(N=N, seed=0)\n",
    "\n",
    "tsp_nfp_state = TSPNFPState(G, max_num_neighbors=5)"
   ]
  },
  {
   "cell_type": "markdown",
   "id": "19539a5d",
   "metadata": {},
   "source": [
    "## Check the greedy search heuristic baseline"
   ]
  },
  {
   "cell_type": "code",
   "execution_count": 3,
   "id": "d51209ab",
   "metadata": {},
   "outputs": [
    {
     "name": "stdout",
     "output_type": "stream",
     "text": [
      "Networkx greedy reward: -5.987\n"
     ]
    }
   ],
   "source": [
    "import networkx as nx\n",
    "from networkx.algorithms.approximation.traveling_salesman import greedy_tsp\n",
    "tsp_approx = nx.approximation.traveling_salesman_problem\n",
    "\n",
    "path = tsp_approx(G, cycle=True, method=greedy_tsp)\n",
    "reward_baseline = -sum([G[path[i]][path[i + 1]][\"weight\"] for i in range(0, N)])\n",
    "print(f\"Networkx greedy reward: {reward_baseline:1.3f}\")"
   ]
  },
  {
   "cell_type": "markdown",
   "id": "e5b06f31",
   "metadata": {},
   "source": [
    "## Initialize a model without any trained weights"
   ]
  },
  {
   "cell_type": "code",
   "execution_count": 4,
   "id": "6125244b",
   "metadata": {},
   "outputs": [],
   "source": [
    "env = GraphEnv({\n",
    "    \"state\": tsp_nfp_state,\n",
    "    \"max_num_children\": G.number_of_nodes(),\n",
    "})\n",
    "\n",
    "model = TSPGNNModel._create_base_model(num_messages=1, embed_dim=32)"
   ]
  },
  {
   "cell_type": "markdown",
   "id": "f49b0a40",
   "metadata": {},
   "source": [
    "## Sample from the model's logit value predictions with a softmax"
   ]
  },
  {
   "cell_type": "code",
   "execution_count": 5,
   "id": "e3236035",
   "metadata": {},
   "outputs": [],
   "source": [
    "def sample_model():\n",
    "    \n",
    "    env.reset()\n",
    "    obs = env.make_observation()\n",
    "    done = False\n",
    "    total_reward = 0\n",
    "\n",
    "    while not done:\n",
    "        values = model(obs['vertex_observations'])[0]\n",
    "        masked_action_values = tf.where(\n",
    "            obs['action_mask'][1:], values[1:, 0], values.dtype.min\n",
    "        )\n",
    "        action_probabilities = tf.nn.softmax(masked_action_values).numpy()\n",
    "        action = np.random.choice(env.max_num_children, size=1, p=action_probabilities)[0]\n",
    "        obs, reward, done, info = env.step(action)\n",
    "        total_reward += reward\n",
    "        \n",
    "    return total_reward"
   ]
  },
  {
   "cell_type": "code",
   "execution_count": 6,
   "id": "0184235b",
   "metadata": {},
   "outputs": [
    {
     "data": {
      "application/vnd.jupyter.widget-view+json": {
       "model_id": "418ea398bd3944ab98ccd71bf9a7c924",
       "version_major": 2,
       "version_minor": 0
      },
      "text/plain": [
       "  0%|          | 0/10 [00:00<?, ?it/s]"
      ]
     },
     "metadata": {},
     "output_type": "display_data"
    },
    {
     "data": {
      "text/plain": [
       "[-7.606531147266801,\n",
       " -6.833060707694988,\n",
       " -7.946361488918026,\n",
       " -7.78510613142895,\n",
       " -6.698088958210221,\n",
       " -7.476044846218038,\n",
       " -6.894692868352494,\n",
       " -7.568217203405193,\n",
       " -7.955649206270243,\n",
       " -8.039583309734674]"
      ]
     },
     "execution_count": 6,
     "metadata": {},
     "output_type": "execute_result"
    }
   ],
   "source": [
    "[sample_model() for _ in tqdm(range(10))]"
   ]
  }
 ],
 "metadata": {
  "kernelspec": {
   "display_name": "Python 3 (ipykernel)",
   "language": "python",
   "name": "python3"
  },
  "language_info": {
   "codemirror_mode": {
    "name": "ipython",
    "version": 3
   },
   "file_extension": ".py",
   "mimetype": "text/x-python",
   "name": "python",
   "nbconvert_exporter": "python",
   "pygments_lexer": "ipython3",
   "version": "3.9.10"
  }
 },
 "nbformat": 4,
 "nbformat_minor": 5
}

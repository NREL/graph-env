{
 "cells": [
  {
   "cell_type": "code",
   "execution_count": 1,
   "id": "491b3ee4",
   "metadata": {
    "pycharm": {
     "name": "#%%\n"
    }
   },
   "outputs": [
    {
     "name": "stdout",
     "output_type": "stream",
     "text": [
      "2.8.0\n",
      "[PhysicalDevice(name='/physical_device:GPU:0', device_type='GPU')]\n"
     ]
    }
   ],
   "source": [
    "import tensorflow as tf\n",
    "print(tf.__version__)\n",
    "\n",
    "gpus = tf.config.list_physical_devices('GPU')\n",
    "print(gpus)\n",
    "\n",
    "for gpu in gpus:\n",
    "    tf.config.experimental.set_memory_growth(gpu, True)"
   ]
  },
  {
   "cell_type": "code",
   "execution_count": 2,
   "id": "93a397e6",
   "metadata": {
    "pycharm": {
     "name": "#%%\n"
    }
   },
   "outputs": [],
   "source": [
    "from graphenv.examples.tsp.graph_utils import make_complete_planar_graph\n",
    "from graphenv.graph_env import GraphEnv\n",
    "from graphenv.examples.tsp.tsp_state import TSPState\n",
    "from graphenv.examples.tsp.tsp_nfp_state import TSPNFPState\n",
    "\n",
    "from graphenv.examples.tsp.tsp_model import TSPModel\n",
    "from graphenv.examples.tsp.tsp_nfp_model import TSPGNNModel"
   ]
  },
  {
   "cell_type": "code",
   "execution_count": 3,
   "id": "94e1fdae",
   "metadata": {
    "pycharm": {
     "name": "#%%\n"
    }
   },
   "outputs": [],
   "source": [
    "G_fn = lambda : make_complete_planar_graph(N=40)\n",
    "\n",
    "tsp_state = TSPState(G_fn)\n",
    "tsp_nfp_state = TSPNFPState(G_fn, max_num_neighbors=10)"
   ]
  },
  {
   "cell_type": "code",
   "execution_count": 4,
   "id": "ee3fdbca",
   "metadata": {
    "pycharm": {
     "name": "#%%\n"
    }
   },
   "outputs": [
    {
     "name": "stdout",
     "output_type": "stream",
     "text": [
      "38.7 µs ± 2.37 µs per loop (mean ± std. dev. of 7 runs, 10,000 loops each)\n"
     ]
    }
   ],
   "source": [
    "%%timeit\n",
    "tsp_state._make_observation()"
   ]
  },
  {
   "cell_type": "code",
   "execution_count": 5,
   "id": "b46c6cee",
   "metadata": {
    "pycharm": {
     "name": "#%%\n"
    }
   },
   "outputs": [
    {
     "name": "stdout",
     "output_type": "stream",
     "text": [
      "6.61 µs ± 323 ns per loop (mean ± std. dev. of 7 runs, 100,000 loops each)\n"
     ]
    }
   ],
   "source": [
    "%%timeit\n",
    "tsp_nfp_state._make_observation()"
   ]
  },
  {
   "cell_type": "code",
   "execution_count": 6,
   "id": "7fb538bb",
   "metadata": {
    "pycharm": {
     "name": "#%%\n"
    }
   },
   "outputs": [],
   "source": [
    "tsp_genv = GraphEnv({'state': tsp_state, 'max_num_children': 40})\n",
    "tsp_nfp_genv = GraphEnv({'state': tsp_nfp_state, 'max_num_children': 40})"
   ]
  },
  {
   "cell_type": "code",
   "execution_count": 7,
   "id": "ac8f3a04",
   "metadata": {
    "pycharm": {
     "name": "#%%\n"
    }
   },
   "outputs": [
    {
     "name": "stdout",
     "output_type": "stream",
     "text": [
      "1.73 ms ± 1.44 µs per loop (mean ± std. dev. of 7 runs, 1,000 loops each)\n"
     ]
    }
   ],
   "source": [
    "%%timeit\n",
    "tsp_genv.make_observation()\n",
    "\n",
    "# Need to reset the state to account for observation caching\n",
    "tsp_genv.state = tsp_state.new()"
   ]
  },
  {
   "cell_type": "code",
   "execution_count": 8,
   "id": "f5732a03",
   "metadata": {
    "pycharm": {
     "name": "#%%\n"
    }
   },
   "outputs": [
    {
     "name": "stdout",
     "output_type": "stream",
     "text": [
      "589 µs ± 480 ns per loop (mean ± std. dev. of 7 runs, 1,000 loops each)\n"
     ]
    }
   ],
   "source": [
    "%%timeit\n",
    "tsp_nfp_genv.make_observation()\n",
    "\n",
    "# Need to reset the state to account for observation caching\n",
    "tsp_nfp_genv.state = tsp_nfp_state.new()"
   ]
  },
  {
   "cell_type": "code",
   "execution_count": 9,
   "id": "587089c0",
   "metadata": {
    "pycharm": {
     "name": "#%%\n"
    }
   },
   "outputs": [],
   "source": [
    "input_obs = tsp_genv.make_observation()\n",
    "input_nfp_obs = tsp_nfp_genv.make_observation()"
   ]
  },
  {
   "cell_type": "code",
   "execution_count": 10,
   "id": "3db24ead",
   "metadata": {
    "pycharm": {
     "name": "#%%\n"
    }
   },
   "outputs": [],
   "source": [
    "tsp_model = TSPModel._create_base_model(hidden_dim=256, embed_dim=256, num_nodes=40)\n",
    "tsp_nfp_model = TSPGNNModel._create_base_model(num_messages=1, embed_dim=256)"
   ]
  },
  {
   "cell_type": "code",
   "execution_count": 11,
   "id": "c1ca31da",
   "metadata": {
    "pycharm": {
     "name": "#%%\n"
    }
   },
   "outputs": [
    {
     "name": "stdout",
     "output_type": "stream",
     "text": [
      "3.76 ms ± 102 µs per loop (mean ± std. dev. of 7 runs, 1 loop each)\n"
     ]
    }
   ],
   "source": [
    "%%timeit \n",
    "\n",
    "with tf.GradientTape() as tape:\n",
    "    tsp_model(input_obs['vertex_observations'])"
   ]
  },
  {
   "cell_type": "code",
   "execution_count": 12,
   "id": "112041ff",
   "metadata": {
    "pycharm": {
     "name": "#%%\n"
    }
   },
   "outputs": [
    {
     "name": "stdout",
     "output_type": "stream",
     "text": [
      "17.3 ms ± 279 µs per loop (mean ± std. dev. of 7 runs, 100 loops each)\n"
     ]
    }
   ],
   "source": [
    "%%timeit \n",
    "\n",
    "with tf.GradientTape() as tape:\n",
    "    tsp_nfp_model(input_nfp_obs['vertex_observations'])"
   ]
  }
 ],
 "metadata": {
  "kernelspec": {
   "display_name": "Python 3 (ipykernel)",
   "language": "python",
   "name": "python3"
  },
  "language_info": {
   "codemirror_mode": {
    "name": "ipython",
    "version": 3
   },
   "file_extension": ".py",
   "mimetype": "text/x-python",
   "name": "python",
   "nbconvert_exporter": "python",
   "pygments_lexer": "ipython3",
   "version": "3.9.10"
  }
 },
 "nbformat": 4,
 "nbformat_minor": 5
}